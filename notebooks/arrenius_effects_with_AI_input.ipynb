{
 "cells": [
  {
   "cell_type": "code",
   "execution_count": 3,
   "metadata": {
    "collapsed": true,
    "ExecuteTime": {
     "start_time": "2023-04-21T17:15:24.417202Z",
     "end_time": "2023-04-21T17:15:24.446792Z"
    }
   },
   "outputs": [],
   "source": [
    "import numpy as np\n",
    "import matplotlib.pyplot as plt\n",
    "import tensorflow as tf\n",
    "import pandas as pd\n",
    "\n",
    "from tqdm.keras import TqdmCallback\n",
    "import os"
   ]
  },
  {
   "cell_type": "code",
   "execution_count": 4,
   "outputs": [],
   "source": [
    "\"\"\"Выборка для обучения получена из работы\n",
    "Arrhenius Crossover Temperature of Glass-Forming Liquids Predicted by an Artificial Neural Network \"\"\"\n",
    "# Подготовленные данные в виде Excel таблицы, в случае отсутсвия можете получить по ссылке\n",
    "# https://disk.yandex.ru/i/JURRL-BjFInPUg\n",
    "# Дополнительная информация:\n",
    "# В таблице 91 запись, из них 57 - с известными экспериментальными T_A_empirical, остальные без (NaN)\n",
    "# Обязательные столбцы при составлении выборки: ['T_g','T_m','T_A_empirical','m']\n",
    "try:\n",
    "    excel_import = pd.read_excel('..\\\\data\\\\input_data.xlsx')\n",
    "except FileNotFoundError:\n",
    "    print(f'В папку с NoteBook\\'ом добавьте файл input_data.xlsx.\\n'\n",
    "          f'Скачать можно по ссылке https://disk.yandex.ru/i/JURRL-BjFInPUg')\n",
    "    raise FileNotFoundError\n",
    "excel_import.loc[:, 'T_g/T_m'] = excel_import.loc[:, 'T_g'] / excel_import.loc[:, 'T_m']"
   ],
   "metadata": {
    "collapsed": false,
    "ExecuteTime": {
     "start_time": "2023-04-21T17:15:25.035573Z",
     "end_time": "2023-04-21T17:15:25.113753Z"
    }
   }
  },
  {
   "cell_type": "code",
   "execution_count": 5,
   "outputs": [
    {
     "data": {
      "text/plain": "    No                      System   T_g   T_m      m  T_A_predicted   \n0    1                     SiO_{2}  1450  2000   17.9           2007  \\\n1    2            Li_{2} O·SiO_{2}   593  1573   33.9           1633   \n2    3           Li_{2} O·2SiO_{2}   727  1306   34.7           1495   \n3    4           Li_{2} O·3SiO_{2}   734  1306   26.3           1508   \n4    5            Na_{2} O·SiO_{2}   687  1362   40.3           1523   \n..  ..                         ...   ...   ...    ...            ...   \n86  87      Pd_{40} Ni_{40} P_{20}   560  1030   50.0           1019   \n87  88             Pd_{82} Si_{18}   648  1071  106.0           1177   \n88  89             Ni_{34} Zr_{66}   760  1283   24.0           1525   \n89  90         Ni_{59.5} Nb_{40.5}   930  1448  136.0           1618   \n90  91  Ni_{60} Nb_{34.8} Sn_{5.2}   890  1363   60.0           1569   \n\n    T_A_empirical   T_g/T_m  \n0             NaN  0.725000  \n1             NaN  0.376987  \n2             NaN  0.556662  \n3             NaN  0.562021  \n4             NaN  0.504405  \n..            ...       ...  \n86         1157.0  0.543689  \n87         1186.0  0.605042  \n88         1506.0  0.592362  \n89         1658.0  0.642265  \n90         1545.0  0.652971  \n\n[91 rows x 8 columns]",
      "text/html": "<div>\n<style scoped>\n    .dataframe tbody tr th:only-of-type {\n        vertical-align: middle;\n    }\n\n    .dataframe tbody tr th {\n        vertical-align: top;\n    }\n\n    .dataframe thead th {\n        text-align: right;\n    }\n</style>\n<table border=\"1\" class=\"dataframe\">\n  <thead>\n    <tr style=\"text-align: right;\">\n      <th></th>\n      <th>No</th>\n      <th>System</th>\n      <th>T_g</th>\n      <th>T_m</th>\n      <th>m</th>\n      <th>T_A_predicted</th>\n      <th>T_A_empirical</th>\n      <th>T_g/T_m</th>\n    </tr>\n  </thead>\n  <tbody>\n    <tr>\n      <th>0</th>\n      <td>1</td>\n      <td>SiO_{2}</td>\n      <td>1450</td>\n      <td>2000</td>\n      <td>17.9</td>\n      <td>2007</td>\n      <td>NaN</td>\n      <td>0.725000</td>\n    </tr>\n    <tr>\n      <th>1</th>\n      <td>2</td>\n      <td>Li_{2} O·SiO_{2}</td>\n      <td>593</td>\n      <td>1573</td>\n      <td>33.9</td>\n      <td>1633</td>\n      <td>NaN</td>\n      <td>0.376987</td>\n    </tr>\n    <tr>\n      <th>2</th>\n      <td>3</td>\n      <td>Li_{2} O·2SiO_{2}</td>\n      <td>727</td>\n      <td>1306</td>\n      <td>34.7</td>\n      <td>1495</td>\n      <td>NaN</td>\n      <td>0.556662</td>\n    </tr>\n    <tr>\n      <th>3</th>\n      <td>4</td>\n      <td>Li_{2} O·3SiO_{2}</td>\n      <td>734</td>\n      <td>1306</td>\n      <td>26.3</td>\n      <td>1508</td>\n      <td>NaN</td>\n      <td>0.562021</td>\n    </tr>\n    <tr>\n      <th>4</th>\n      <td>5</td>\n      <td>Na_{2} O·SiO_{2}</td>\n      <td>687</td>\n      <td>1362</td>\n      <td>40.3</td>\n      <td>1523</td>\n      <td>NaN</td>\n      <td>0.504405</td>\n    </tr>\n    <tr>\n      <th>...</th>\n      <td>...</td>\n      <td>...</td>\n      <td>...</td>\n      <td>...</td>\n      <td>...</td>\n      <td>...</td>\n      <td>...</td>\n      <td>...</td>\n    </tr>\n    <tr>\n      <th>86</th>\n      <td>87</td>\n      <td>Pd_{40} Ni_{40} P_{20}</td>\n      <td>560</td>\n      <td>1030</td>\n      <td>50.0</td>\n      <td>1019</td>\n      <td>1157.0</td>\n      <td>0.543689</td>\n    </tr>\n    <tr>\n      <th>87</th>\n      <td>88</td>\n      <td>Pd_{82} Si_{18}</td>\n      <td>648</td>\n      <td>1071</td>\n      <td>106.0</td>\n      <td>1177</td>\n      <td>1186.0</td>\n      <td>0.605042</td>\n    </tr>\n    <tr>\n      <th>88</th>\n      <td>89</td>\n      <td>Ni_{34} Zr_{66}</td>\n      <td>760</td>\n      <td>1283</td>\n      <td>24.0</td>\n      <td>1525</td>\n      <td>1506.0</td>\n      <td>0.592362</td>\n    </tr>\n    <tr>\n      <th>89</th>\n      <td>90</td>\n      <td>Ni_{59.5} Nb_{40.5}</td>\n      <td>930</td>\n      <td>1448</td>\n      <td>136.0</td>\n      <td>1618</td>\n      <td>1658.0</td>\n      <td>0.642265</td>\n    </tr>\n    <tr>\n      <th>90</th>\n      <td>91</td>\n      <td>Ni_{60} Nb_{34.8} Sn_{5.2}</td>\n      <td>890</td>\n      <td>1363</td>\n      <td>60.0</td>\n      <td>1569</td>\n      <td>1545.0</td>\n      <td>0.652971</td>\n    </tr>\n  </tbody>\n</table>\n<p>91 rows × 8 columns</p>\n</div>"
     },
     "execution_count": 5,
     "metadata": {},
     "output_type": "execute_result"
    }
   ],
   "source": [
    "excel_import"
   ],
   "metadata": {
    "collapsed": false,
    "ExecuteTime": {
     "start_time": "2023-04-21T17:15:26.496649Z",
     "end_time": "2023-04-21T17:15:26.573414Z"
    }
   }
  },
  {
   "cell_type": "code",
   "execution_count": 4,
   "outputs": [
    {
     "data": {
      "text/plain": "Text(0, 0.5, '$T_predicted, K$')"
     },
     "execution_count": 4,
     "metadata": {},
     "output_type": "execute_result"
    },
    {
     "data": {
      "text/plain": "<Figure size 640x480 with 1 Axes>",
      "image/png": "[encoded data removed]"
     },
     "metadata": {},
     "output_type": "display_data"
    }
   ],
   "source": [
    "## Анализ уже имеющихся данных\n",
    "plt.plot(excel_import.loc[:, 'T_A_empirical'], excel_import.loc[:, 'T_A_predicted'], '.r')\n",
    "plt.plot([0, 2250], [0, 2250], '-k')\n",
    "plt.xlabel('$T_empirical, K$')\n",
    "plt.ylabel('$T_predicted, K$')"
   ],
   "metadata": {
    "collapsed": false,
    "ExecuteTime": {
     "start_time": "2023-04-20T21:15:57.036376Z",
     "end_time": "2023-04-20T21:15:57.517559Z"
    }
   }
  },
  {
   "cell_type": "code",
   "execution_count": 5,
   "outputs": [
    {
     "name": "stdout",
     "output_type": "stream",
     "text": [
      "Максимальное отклонение в 170.0К для Zr_{57} Ni_{43}\n"
     ]
    }
   ],
   "source": [
    "# Максимальный вылет температур в работе - 170К. :\n",
    "excel_import['difference'] = (excel_import.loc[:, 'T_A_empirical'] - excel_import.loc[:, 'T_A_predicted']).abs()\n",
    "id_max = excel_import['difference'].idxmax()\n",
    "\n",
    "print(f\"Максимальное отклонение в {excel_import.loc[id_max, 'difference']}К для {excel_import.loc[id_max, 'System']}\")"
   ],
   "metadata": {
    "collapsed": false,
    "ExecuteTime": {
     "start_time": "2023-04-20T21:16:06.211106Z",
     "end_time": "2023-04-20T21:16:06.240106Z"
    }
   }
  },
  {
   "cell_type": "code",
   "execution_count": 14,
   "outputs": [],
   "source": [
    "# Оптимизация ввода данных\n",
    "# Массив данных на ввод нейронке\n",
    "input_plan = [['m'],\n",
    "              ['T_g/T_m'],\n",
    "              ['T_g/T_m', 'm'],\n",
    "              ['T_g', 'm'],\n",
    "              ['T_g'],\n",
    "              ['T_g', 'T_m'],\n",
    "              ['T_g', 'T_m', 'm'],\n",
    "              ['T_m'],\n",
    "              ['T_g', 'T_m', 'T_g/T_m', 'm']]"
   ],
   "metadata": {
    "collapsed": false,
    "ExecuteTime": {
     "start_time": "2023-04-21T17:16:06.091686Z",
     "end_time": "2023-04-21T17:16:06.175531Z"
    }
   }
  },
  {
   "cell_type": "code",
   "execution_count": 8,
   "outputs": [],
   "source": [
    "# Конфигурация нейронки\n",
    "BATCH_SIZE = 128  # размер пакета 128>57, SGD переходит в обычный градиентный спуск\n",
    "TRAIN_RATE = 0.3\n",
    "EPOCHS = 5000"
   ],
   "metadata": {
    "collapsed": false,
    "ExecuteTime": {
     "start_time": "2023-04-21T17:15:46.693960Z",
     "end_time": "2023-04-21T17:15:46.744497Z"
    }
   }
  },
  {
   "cell_type": "code",
   "execution_count": 7,
   "outputs": [
    {
     "data": {
      "text/plain": "     T_g   T_m   T_g/T_m      m  T_A_empirical\n34   995  1664  0.597957   59.0         1839.0\n35  1087  1393  0.780330   24.0         1503.0\n36  1113  1825  0.609863   54.0         2010.0\n37   530   723  0.733057   36.0         1073.0\n38   208   321  0.647975  125.0          328.0\n39   179   238  0.752101   75.0          241.0\n40   185   270  0.685185   70.0          262.0\n41   195   275  0.709091   70.0          261.0\n42   187   223  0.838565   60.0          251.0\n43   196   234  0.837607   66.0          268.0\n44   255   325  0.784615   96.0          309.0\n45   191   293  0.651877   53.0          338.0\n46   318   387  0.821705   73.0          461.0\n47   208   299  0.695652   76.0          270.0\n48   243   329  0.738602   81.0          341.0\n49   237   242  0.979339   72.0          314.0\n50   294   373  0.788204   85.0          397.0\n51   164   214  0.766355   52.0          321.0\n52   221   315  0.701587   73.0          309.0\n53   340   373  0.911528   94.0          421.0\n54   209   240  0.870833   76.0          280.0\n55   192   232  0.827586   72.0          251.0\n56   204   296  0.689189   69.0          286.0\n57   250   367  0.681199   87.0          311.0\n58   133   203  0.655172   72.0          250.0\n59   189   250  0.756000   98.0          279.0\n60   160   224  0.714286   99.0          290.0\n61   122   174  0.701149   55.0          240.0\n62   173   271  0.638376   70.0          312.0\n63   176   353  0.498584   75.0          314.0\n64   245   342  0.716374   96.0          330.0\n65   340   373  0.911528   94.0          421.0\n66   380   473  0.803383   54.0          498.0\n67   286   418  0.684211   70.0          433.0\n68   800  1230  0.650407   36.0         1368.0\n69   647  1126  0.574600   41.0         1214.0\n70   677  1152  0.587674   48.0         1287.0\n71   701  1173  0.597613   71.0         1280.0\n72   651  1226  0.530995   60.0         1390.0\n73   675  1123  0.601069   49.0         1324.0\n74   729  1503  0.485030   40.0         1557.0\n75   675  1220  0.553279   46.0         1384.0\n76   722  1450  0.497931   33.0         1738.0\n77   672  1125  0.597333   45.0         1242.0\n78   715  1364  0.524194   45.0         1549.0\n79   640  1173  0.545610   45.0         1300.0\n80   617  1026  0.601365   50.0         1144.0\n81   625  1050  0.595238   44.0         1205.0\n82   600  1283  0.467654   95.0         1400.0\n83   669  1185  0.564557   64.0         1313.0\n84   687  1279  0.537138   41.0         1472.0\n85   632  1058  0.597353   64.0         1160.0\n86   560  1030  0.543689   50.0         1157.0\n87   648  1071  0.605042  106.0         1186.0\n88   760  1283  0.592362   24.0         1506.0\n89   930  1448  0.642265  136.0         1658.0\n90   890  1363  0.652971   60.0         1545.0",
      "text/html": "<div>\n<style scoped>\n    .dataframe tbody tr th:only-of-type {\n        vertical-align: middle;\n    }\n\n    .dataframe tbody tr th {\n        vertical-align: top;\n    }\n\n    .dataframe thead th {\n        text-align: right;\n    }\n</style>\n<table border=\"1\" class=\"dataframe\">\n  <thead>\n    <tr style=\"text-align: right;\">\n      <th></th>\n      <th>T_g</th>\n      <th>T_m</th>\n      <th>T_g/T_m</th>\n      <th>m</th>\n      <th>T_A_empirical</th>\n    </tr>\n  </thead>\n  <tbody>\n    <tr>\n      <th>34</th>\n      <td>995</td>\n      <td>1664</td>\n      <td>0.597957</td>\n      <td>59.0</td>\n      <td>1839.0</td>\n    </tr>\n    <tr>\n      <th>35</th>\n      <td>1087</td>\n      <td>1393</td>\n      <td>0.780330</td>\n      <td>24.0</td>\n      <td>1503.0</td>\n    </tr>\n    <tr>\n      <th>36</th>\n      <td>1113</td>\n      <td>1825</td>\n      <td>0.609863</td>\n      <td>54.0</td>\n      <td>2010.0</td>\n    </tr>\n    <tr>\n      <th>37</th>\n      <td>530</td>\n      <td>723</td>\n      <td>0.733057</td>\n      <td>36.0</td>\n      <td>1073.0</td>\n    </tr>\n    <tr>\n      <th>38</th>\n      <td>208</td>\n      <td>321</td>\n      <td>0.647975</td>\n      <td>125.0</td>\n      <td>328.0</td>\n    </tr>\n    <tr>\n      <th>39</th>\n      <td>179</td>\n      <td>238</td>\n      <td>0.752101</td>\n      <td>75.0</td>\n      <td>241.0</td>\n    </tr>\n    <tr>\n      <th>40</th>\n      <td>185</td>\n      <td>270</td>\n      <td>0.685185</td>\n      <td>70.0</td>\n      <td>262.0</td>\n    </tr>\n    <tr>\n      <th>41</th>\n      <td>195</td>\n      <td>275</td>\n      <td>0.709091</td>\n      <td>70.0</td>\n      <td>261.0</td>\n    </tr>\n    <tr>\n      <th>42</th>\n      <td>187</td>\n      <td>223</td>\n      <td>0.838565</td>\n      <td>60.0</td>\n      <td>251.0</td>\n    </tr>\n    <tr>\n      <th>43</th>\n      <td>196</td>\n      <td>234</td>\n      <td>0.837607</td>\n      <td>66.0</td>\n      <td>268.0</td>\n    </tr>\n    <tr>\n      <th>44</th>\n      <td>255</td>\n      <td>325</td>\n      <td>0.784615</td>\n      <td>96.0</td>\n      <td>309.0</td>\n    </tr>\n    <tr>\n      <th>45</th>\n      <td>191</td>\n      <td>293</td>\n      <td>0.651877</td>\n      <td>53.0</td>\n      <td>338.0</td>\n    </tr>\n    <tr>\n      <th>46</th>\n      <td>318</td>\n      <td>387</td>\n      <td>0.821705</td>\n      <td>73.0</td>\n      <td>461.0</td>\n    </tr>\n    <tr>\n      <th>47</th>\n      <td>208</td>\n      <td>299</td>\n      <td>0.695652</td>\n      <td>76.0</td>\n      <td>270.0</td>\n    </tr>\n    <tr>\n      <th>48</th>\n      <td>243</td>\n      <td>329</td>\n      <td>0.738602</td>\n      <td>81.0</td>\n      <td>341.0</td>\n    </tr>\n    <tr>\n      <th>49</th>\n      <td>237</td>\n      <td>242</td>\n      <td>0.979339</td>\n      <td>72.0</td>\n      <td>314.0</td>\n    </tr>\n    <tr>\n      <th>50</th>\n      <td>294</td>\n      <td>373</td>\n      <td>0.788204</td>\n      <td>85.0</td>\n      <td>397.0</td>\n    </tr>\n    <tr>\n      <th>51</th>\n      <td>164</td>\n      <td>214</td>\n      <td>0.766355</td>\n      <td>52.0</td>\n      <td>321.0</td>\n    </tr>\n    <tr>\n      <th>52</th>\n      <td>221</td>\n      <td>315</td>\n      <td>0.701587</td>\n      <td>73.0</td>\n      <td>309.0</td>\n    </tr>\n    <tr>\n      <th>53</th>\n      <td>340</td>\n      <td>373</td>\n      <td>0.911528</td>\n      <td>94.0</td>\n      <td>421.0</td>\n    </tr>\n    <tr>\n      <th>54</th>\n      <td>209</td>\n      <td>240</td>\n      <td>0.870833</td>\n      <td>76.0</td>\n      <td>280.0</td>\n    </tr>\n    <tr>\n      <th>55</th>\n      <td>192</td>\n      <td>232</td>\n      <td>0.827586</td>\n      <td>72.0</td>\n      <td>251.0</td>\n    </tr>\n    <tr>\n      <th>56</th>\n      <td>204</td>\n      <td>296</td>\n      <td>0.689189</td>\n      <td>69.0</td>\n      <td>286.0</td>\n    </tr>\n    <tr>\n      <th>57</th>\n      <td>250</td>\n      <td>367</td>\n      <td>0.681199</td>\n      <td>87.0</td>\n      <td>311.0</td>\n    </tr>\n    <tr>\n      <th>58</th>\n      <td>133</td>\n      <td>203</td>\n      <td>0.655172</td>\n      <td>72.0</td>\n      <td>250.0</td>\n    </tr>\n    <tr>\n      <th>59</th>\n      <td>189</td>\n      <td>250</td>\n      <td>0.756000</td>\n      <td>98.0</td>\n      <td>279.0</td>\n    </tr>\n    <tr>\n      <th>60</th>\n      <td>160</td>\n      <td>224</td>\n      <td>0.714286</td>\n      <td>99.0</td>\n      <td>290.0</td>\n    </tr>\n    <tr>\n      <th>61</th>\n      <td>122</td>\n      <td>174</td>\n      <td>0.701149</td>\n      <td>55.0</td>\n      <td>240.0</td>\n    </tr>\n    <tr>\n      <th>62</th>\n      <td>173</td>\n      <td>271</td>\n      <td>0.638376</td>\n      <td>70.0</td>\n      <td>312.0</td>\n    </tr>\n    <tr>\n      <th>63</th>\n      <td>176</td>\n      <td>353</td>\n      <td>0.498584</td>\n      <td>75.0</td>\n      <td>314.0</td>\n    </tr>\n    <tr>\n      <th>64</th>\n      <td>245</td>\n      <td>342</td>\n      <td>0.716374</td>\n      <td>96.0</td>\n      <td>330.0</td>\n    </tr>\n    <tr>\n      <th>65</th>\n      <td>340</td>\n      <td>373</td>\n      <td>0.911528</td>\n      <td>94.0</td>\n      <td>421.0</td>\n    </tr>\n    <tr>\n      <th>66</th>\n      <td>380</td>\n      <td>473</td>\n      <td>0.803383</td>\n      <td>54.0</td>\n      <td>498.0</td>\n    </tr>\n    <tr>\n      <th>67</th>\n      <td>286</td>\n      <td>418</td>\n      <td>0.684211</td>\n      <td>70.0</td>\n      <td>433.0</td>\n    </tr>\n    <tr>\n      <th>68</th>\n      <td>800</td>\n      <td>1230</td>\n      <td>0.650407</td>\n      <td>36.0</td>\n      <td>1368.0</td>\n    </tr>\n    <tr>\n      <th>69</th>\n      <td>647</td>\n      <td>1126</td>\n      <td>0.574600</td>\n      <td>41.0</td>\n      <td>1214.0</td>\n    </tr>\n    <tr>\n      <th>70</th>\n      <td>677</td>\n      <td>1152</td>\n      <td>0.587674</td>\n      <td>48.0</td>\n      <td>1287.0</td>\n    </tr>\n    <tr>\n      <th>71</th>\n      <td>701</td>\n      <td>1173</td>\n      <td>0.597613</td>\n      <td>71.0</td>\n      <td>1280.0</td>\n    </tr>\n    <tr>\n      <th>72</th>\n      <td>651</td>\n      <td>1226</td>\n      <td>0.530995</td>\n      <td>60.0</td>\n      <td>1390.0</td>\n    </tr>\n    <tr>\n      <th>73</th>\n      <td>675</td>\n      <td>1123</td>\n      <td>0.601069</td>\n      <td>49.0</td>\n      <td>1324.0</td>\n    </tr>\n    <tr>\n      <th>74</th>\n      <td>729</td>\n      <td>1503</td>\n      <td>0.485030</td>\n      <td>40.0</td>\n      <td>1557.0</td>\n    </tr>\n    <tr>\n      <th>75</th>\n      <td>675</td>\n      <td>1220</td>\n      <td>0.553279</td>\n      <td>46.0</td>\n      <td>1384.0</td>\n    </tr>\n    <tr>\n      <th>76</th>\n      <td>722</td>\n      <td>1450</td>\n      <td>0.497931</td>\n      <td>33.0</td>\n      <td>1738.0</td>\n    </tr>\n    <tr>\n      <th>77</th>\n      <td>672</td>\n      <td>1125</td>\n      <td>0.597333</td>\n      <td>45.0</td>\n      <td>1242.0</td>\n    </tr>\n    <tr>\n      <th>78</th>\n      <td>715</td>\n      <td>1364</td>\n      <td>0.524194</td>\n      <td>45.0</td>\n      <td>1549.0</td>\n    </tr>\n    <tr>\n      <th>79</th>\n      <td>640</td>\n      <td>1173</td>\n      <td>0.545610</td>\n      <td>45.0</td>\n      <td>1300.0</td>\n    </tr>\n    <tr>\n      <th>80</th>\n      <td>617</td>\n      <td>1026</td>\n      <td>0.601365</td>\n      <td>50.0</td>\n      <td>1144.0</td>\n    </tr>\n    <tr>\n      <th>81</th>\n      <td>625</td>\n      <td>1050</td>\n      <td>0.595238</td>\n      <td>44.0</td>\n      <td>1205.0</td>\n    </tr>\n    <tr>\n      <th>82</th>\n      <td>600</td>\n      <td>1283</td>\n      <td>0.467654</td>\n      <td>95.0</td>\n      <td>1400.0</td>\n    </tr>\n    <tr>\n      <th>83</th>\n      <td>669</td>\n      <td>1185</td>\n      <td>0.564557</td>\n      <td>64.0</td>\n      <td>1313.0</td>\n    </tr>\n    <tr>\n      <th>84</th>\n      <td>687</td>\n      <td>1279</td>\n      <td>0.537138</td>\n      <td>41.0</td>\n      <td>1472.0</td>\n    </tr>\n    <tr>\n      <th>85</th>\n      <td>632</td>\n      <td>1058</td>\n      <td>0.597353</td>\n      <td>64.0</td>\n      <td>1160.0</td>\n    </tr>\n    <tr>\n      <th>86</th>\n      <td>560</td>\n      <td>1030</td>\n      <td>0.543689</td>\n      <td>50.0</td>\n      <td>1157.0</td>\n    </tr>\n    <tr>\n      <th>87</th>\n      <td>648</td>\n      <td>1071</td>\n      <td>0.605042</td>\n      <td>106.0</td>\n      <td>1186.0</td>\n    </tr>\n    <tr>\n      <th>88</th>\n      <td>760</td>\n      <td>1283</td>\n      <td>0.592362</td>\n      <td>24.0</td>\n      <td>1506.0</td>\n    </tr>\n    <tr>\n      <th>89</th>\n      <td>930</td>\n      <td>1448</td>\n      <td>0.642265</td>\n      <td>136.0</td>\n      <td>1658.0</td>\n    </tr>\n    <tr>\n      <th>90</th>\n      <td>890</td>\n      <td>1363</td>\n      <td>0.652971</td>\n      <td>60.0</td>\n      <td>1545.0</td>\n    </tr>\n  </tbody>\n</table>\n</div>"
     },
     "execution_count": 7,
     "metadata": {},
     "output_type": "execute_result"
    }
   ],
   "source": [
    "train_data = excel_import[excel_import.T_A_empirical.notna()].loc[:,\n",
    "             ['T_g', 'T_m', 'T_g/T_m', 'm', 'T_A_empirical']]\n",
    "## Данные, которые с известным экспериментальным значением, поделим на 10000, чтобы значения были в [0,1]\n",
    "train_data"
   ],
   "metadata": {
    "collapsed": false,
    "ExecuteTime": {
     "start_time": "2023-04-21T17:15:44.964290Z",
     "end_time": "2023-04-21T17:15:45.031301Z"
    }
   }
  },
  {
   "cell_type": "code",
   "execution_count": 9,
   "outputs": [],
   "source": [
    "target_normalizer = tf.keras.layers.Normalization(axis=1)\n",
    "target_normalizer.adapt(train_data['T_A_empirical'])\n",
    "\n",
    "target_denormalizer = tf.keras.layers.Normalization(axis=1, invert=True)\n",
    "target_denormalizer.adapt(train_data['T_A_empirical'])\n"
   ],
   "metadata": {
    "collapsed": false,
    "ExecuteTime": {
     "start_time": "2023-04-21T17:15:48.999367Z",
     "end_time": "2023-04-21T17:15:50.172171Z"
    }
   }
  },
  {
   "cell_type": "code",
   "execution_count": 10,
   "outputs": [],
   "source": [
    "# Модель\n",
    "def get_model(input_plan):\n",
    "    model = tf.keras.models.Sequential([\n",
    "        tf.keras.layers.InputLayer(input_shape=(len(input_plan),)),\n",
    "        tf.keras.layers.Dense(10, activation='tanh'),\n",
    "        tf.keras.layers.Dense(10, activation='tanh'),\n",
    "        tf.keras.layers.Dense(1),\n",
    "    ])\n",
    "    optimizer = tf.keras.optimizers.SGD(learning_rate=TRAIN_RATE)\n",
    "    model.compile(optimizer=optimizer,\n",
    "                  loss='mse')\n",
    "    return model"
   ],
   "metadata": {
    "collapsed": false,
    "ExecuteTime": {
     "start_time": "2023-04-21T17:15:52.263829Z",
     "end_time": "2023-04-21T17:15:52.297829Z"
    }
   }
  },
  {
   "cell_type": "code",
   "execution_count": 11,
   "outputs": [
    {
     "data": {
      "text/plain": "     T_g   T_m   T_g/T_m      m  T_A_empirical\n34   995  1664  0.597957   59.0         1839.0\n35  1087  1393  0.780330   24.0         1503.0\n36  1113  1825  0.609863   54.0         2010.0\n37   530   723  0.733057   36.0         1073.0\n38   208   321  0.647975  125.0          328.0\n39   179   238  0.752101   75.0          241.0\n40   185   270  0.685185   70.0          262.0\n41   195   275  0.709091   70.0          261.0\n42   187   223  0.838565   60.0          251.0\n43   196   234  0.837607   66.0          268.0\n44   255   325  0.784615   96.0          309.0\n45   191   293  0.651877   53.0          338.0\n46   318   387  0.821705   73.0          461.0\n47   208   299  0.695652   76.0          270.0\n48   243   329  0.738602   81.0          341.0\n49   237   242  0.979339   72.0          314.0\n50   294   373  0.788204   85.0          397.0\n51   164   214  0.766355   52.0          321.0\n52   221   315  0.701587   73.0          309.0\n53   340   373  0.911528   94.0          421.0\n54   209   240  0.870833   76.0          280.0\n55   192   232  0.827586   72.0          251.0\n56   204   296  0.689189   69.0          286.0\n57   250   367  0.681199   87.0          311.0\n58   133   203  0.655172   72.0          250.0\n59   189   250  0.756000   98.0          279.0\n60   160   224  0.714286   99.0          290.0\n61   122   174  0.701149   55.0          240.0\n62   173   271  0.638376   70.0          312.0\n63   176   353  0.498584   75.0          314.0\n64   245   342  0.716374   96.0          330.0\n65   340   373  0.911528   94.0          421.0\n66   380   473  0.803383   54.0          498.0\n67   286   418  0.684211   70.0          433.0\n68   800  1230  0.650407   36.0         1368.0\n69   647  1126  0.574600   41.0         1214.0\n70   677  1152  0.587674   48.0         1287.0\n71   701  1173  0.597613   71.0         1280.0\n72   651  1226  0.530995   60.0         1390.0\n73   675  1123  0.601069   49.0         1324.0\n74   729  1503  0.485030   40.0         1557.0\n75   675  1220  0.553279   46.0         1384.0\n76   722  1450  0.497931   33.0         1738.0\n77   672  1125  0.597333   45.0         1242.0\n78   715  1364  0.524194   45.0         1549.0\n79   640  1173  0.545610   45.0         1300.0\n80   617  1026  0.601365   50.0         1144.0\n81   625  1050  0.595238   44.0         1205.0\n82   600  1283  0.467654   95.0         1400.0\n83   669  1185  0.564557   64.0         1313.0\n84   687  1279  0.537138   41.0         1472.0\n85   632  1058  0.597353   64.0         1160.0\n86   560  1030  0.543689   50.0         1157.0\n87   648  1071  0.605042  106.0         1186.0\n88   760  1283  0.592362   24.0         1506.0\n89   930  1448  0.642265  136.0         1658.0\n90   890  1363  0.652971   60.0         1545.0",
      "text/html": "<div>\n<style scoped>\n    .dataframe tbody tr th:only-of-type {\n        vertical-align: middle;\n    }\n\n    .dataframe tbody tr th {\n        vertical-align: top;\n    }\n\n    .dataframe thead th {\n        text-align: right;\n    }\n</style>\n<table border=\"1\" class=\"dataframe\">\n  <thead>\n    <tr style=\"text-align: right;\">\n      <th></th>\n      <th>T_g</th>\n      <th>T_m</th>\n      <th>T_g/T_m</th>\n      <th>m</th>\n      <th>T_A_empirical</th>\n    </tr>\n  </thead>\n  <tbody>\n    <tr>\n      <th>34</th>\n      <td>995</td>\n      <td>1664</td>\n      <td>0.597957</td>\n      <td>59.0</td>\n      <td>1839.0</td>\n    </tr>\n    <tr>\n      <th>35</th>\n      <td>1087</td>\n      <td>1393</td>\n      <td>0.780330</td>\n      <td>24.0</td>\n      <td>1503.0</td>\n    </tr>\n    <tr>\n      <th>36</th>\n      <td>1113</td>\n      <td>1825</td>\n      <td>0.609863</td>\n      <td>54.0</td>\n      <td>2010.0</td>\n    </tr>\n    <tr>\n      <th>37</th>\n      <td>530</td>\n      <td>723</td>\n      <td>0.733057</td>\n      <td>36.0</td>\n      <td>1073.0</td>\n    </tr>\n    <tr>\n      <th>38</th>\n      <td>208</td>\n      <td>321</td>\n      <td>0.647975</td>\n      <td>125.0</td>\n      <td>328.0</td>\n    </tr>\n    <tr>\n      <th>39</th>\n      <td>179</td>\n      <td>238</td>\n      <td>0.752101</td>\n      <td>75.0</td>\n      <td>241.0</td>\n    </tr>\n    <tr>\n      <th>40</th>\n      <td>185</td>\n      <td>270</td>\n      <td>0.685185</td>\n      <td>70.0</td>\n      <td>262.0</td>\n    </tr>\n    <tr>\n      <th>41</th>\n      <td>195</td>\n      <td>275</td>\n      <td>0.709091</td>\n      <td>70.0</td>\n      <td>261.0</td>\n    </tr>\n    <tr>\n      <th>42</th>\n      <td>187</td>\n      <td>223</td>\n      <td>0.838565</td>\n      <td>60.0</td>\n      <td>251.0</td>\n    </tr>\n    <tr>\n      <th>43</th>\n      <td>196</td>\n      <td>234</td>\n      <td>0.837607</td>\n      <td>66.0</td>\n      <td>268.0</td>\n    </tr>\n    <tr>\n      <th>44</th>\n      <td>255</td>\n      <td>325</td>\n      <td>0.784615</td>\n      <td>96.0</td>\n      <td>309.0</td>\n    </tr>\n    <tr>\n      <th>45</th>\n      <td>191</td>\n      <td>293</td>\n      <td>0.651877</td>\n      <td>53.0</td>\n      <td>338.0</td>\n    </tr>\n    <tr>\n      <th>46</th>\n      <td>318</td>\n      <td>387</td>\n      <td>0.821705</td>\n      <td>73.0</td>\n      <td>461.0</td>\n    </tr>\n    <tr>\n      <th>47</th>\n      <td>208</td>\n      <td>299</td>\n      <td>0.695652</td>\n      <td>76.0</td>\n      <td>270.0</td>\n    </tr>\n    <tr>\n      <th>48</th>\n      <td>243</td>\n      <td>329</td>\n      <td>0.738602</td>\n      <td>81.0</td>\n      <td>341.0</td>\n    </tr>\n    <tr>\n      <th>49</th>\n      <td>237</td>\n      <td>242</td>\n      <td>0.979339</td>\n      <td>72.0</td>\n      <td>314.0</td>\n    </tr>\n    <tr>\n      <th>50</th>\n      <td>294</td>\n      <td>373</td>\n      <td>0.788204</td>\n      <td>85.0</td>\n      <td>397.0</td>\n    </tr>\n    <tr>\n      <th>51</th>\n      <td>164</td>\n      <td>214</td>\n      <td>0.766355</td>\n      <td>52.0</td>\n      <td>321.0</td>\n    </tr>\n    <tr>\n      <th>52</th>\n      <td>221</td>\n      <td>315</td>\n      <td>0.701587</td>\n      <td>73.0</td>\n      <td>309.0</td>\n    </tr>\n    <tr>\n      <th>53</th>\n      <td>340</td>\n      <td>373</td>\n      <td>0.911528</td>\n      <td>94.0</td>\n      <td>421.0</td>\n    </tr>\n    <tr>\n      <th>54</th>\n      <td>209</td>\n      <td>240</td>\n      <td>0.870833</td>\n      <td>76.0</td>\n      <td>280.0</td>\n    </tr>\n    <tr>\n      <th>55</th>\n      <td>192</td>\n      <td>232</td>\n      <td>0.827586</td>\n      <td>72.0</td>\n      <td>251.0</td>\n    </tr>\n    <tr>\n      <th>56</th>\n      <td>204</td>\n      <td>296</td>\n      <td>0.689189</td>\n      <td>69.0</td>\n      <td>286.0</td>\n    </tr>\n    <tr>\n      <th>57</th>\n      <td>250</td>\n      <td>367</td>\n      <td>0.681199</td>\n      <td>87.0</td>\n      <td>311.0</td>\n    </tr>\n    <tr>\n      <th>58</th>\n      <td>133</td>\n      <td>203</td>\n      <td>0.655172</td>\n      <td>72.0</td>\n      <td>250.0</td>\n    </tr>\n    <tr>\n      <th>59</th>\n      <td>189</td>\n      <td>250</td>\n      <td>0.756000</td>\n      <td>98.0</td>\n      <td>279.0</td>\n    </tr>\n    <tr>\n      <th>60</th>\n      <td>160</td>\n      <td>224</td>\n      <td>0.714286</td>\n      <td>99.0</td>\n      <td>290.0</td>\n    </tr>\n    <tr>\n      <th>61</th>\n      <td>122</td>\n      <td>174</td>\n      <td>0.701149</td>\n      <td>55.0</td>\n      <td>240.0</td>\n    </tr>\n    <tr>\n      <th>62</th>\n      <td>173</td>\n      <td>271</td>\n      <td>0.638376</td>\n      <td>70.0</td>\n      <td>312.0</td>\n    </tr>\n    <tr>\n      <th>63</th>\n      <td>176</td>\n      <td>353</td>\n      <td>0.498584</td>\n      <td>75.0</td>\n      <td>314.0</td>\n    </tr>\n    <tr>\n      <th>64</th>\n      <td>245</td>\n      <td>342</td>\n      <td>0.716374</td>\n      <td>96.0</td>\n      <td>330.0</td>\n    </tr>\n    <tr>\n      <th>65</th>\n      <td>340</td>\n      <td>373</td>\n      <td>0.911528</td>\n      <td>94.0</td>\n      <td>421.0</td>\n    </tr>\n    <tr>\n      <th>66</th>\n      <td>380</td>\n      <td>473</td>\n      <td>0.803383</td>\n      <td>54.0</td>\n      <td>498.0</td>\n    </tr>\n    <tr>\n      <th>67</th>\n      <td>286</td>\n      <td>418</td>\n      <td>0.684211</td>\n      <td>70.0</td>\n      <td>433.0</td>\n    </tr>\n    <tr>\n      <th>68</th>\n      <td>800</td>\n      <td>1230</td>\n      <td>0.650407</td>\n      <td>36.0</td>\n      <td>1368.0</td>\n    </tr>\n    <tr>\n      <th>69</th>\n      <td>647</td>\n      <td>1126</td>\n      <td>0.574600</td>\n      <td>41.0</td>\n      <td>1214.0</td>\n    </tr>\n    <tr>\n      <th>70</th>\n      <td>677</td>\n      <td>1152</td>\n      <td>0.587674</td>\n      <td>48.0</td>\n      <td>1287.0</td>\n    </tr>\n    <tr>\n      <th>71</th>\n      <td>701</td>\n      <td>1173</td>\n      <td>0.597613</td>\n      <td>71.0</td>\n      <td>1280.0</td>\n    </tr>\n    <tr>\n      <th>72</th>\n      <td>651</td>\n      <td>1226</td>\n      <td>0.530995</td>\n      <td>60.0</td>\n      <td>1390.0</td>\n    </tr>\n    <tr>\n      <th>73</th>\n      <td>675</td>\n      <td>1123</td>\n      <td>0.601069</td>\n      <td>49.0</td>\n      <td>1324.0</td>\n    </tr>\n    <tr>\n      <th>74</th>\n      <td>729</td>\n      <td>1503</td>\n      <td>0.485030</td>\n      <td>40.0</td>\n      <td>1557.0</td>\n    </tr>\n    <tr>\n      <th>75</th>\n      <td>675</td>\n      <td>1220</td>\n      <td>0.553279</td>\n      <td>46.0</td>\n      <td>1384.0</td>\n    </tr>\n    <tr>\n      <th>76</th>\n      <td>722</td>\n      <td>1450</td>\n      <td>0.497931</td>\n      <td>33.0</td>\n      <td>1738.0</td>\n    </tr>\n    <tr>\n      <th>77</th>\n      <td>672</td>\n      <td>1125</td>\n      <td>0.597333</td>\n      <td>45.0</td>\n      <td>1242.0</td>\n    </tr>\n    <tr>\n      <th>78</th>\n      <td>715</td>\n      <td>1364</td>\n      <td>0.524194</td>\n      <td>45.0</td>\n      <td>1549.0</td>\n    </tr>\n    <tr>\n      <th>79</th>\n      <td>640</td>\n      <td>1173</td>\n      <td>0.545610</td>\n      <td>45.0</td>\n      <td>1300.0</td>\n    </tr>\n    <tr>\n      <th>80</th>\n      <td>617</td>\n      <td>1026</td>\n      <td>0.601365</td>\n      <td>50.0</td>\n      <td>1144.0</td>\n    </tr>\n    <tr>\n      <th>81</th>\n      <td>625</td>\n      <td>1050</td>\n      <td>0.595238</td>\n      <td>44.0</td>\n      <td>1205.0</td>\n    </tr>\n    <tr>\n      <th>82</th>\n      <td>600</td>\n      <td>1283</td>\n      <td>0.467654</td>\n      <td>95.0</td>\n      <td>1400.0</td>\n    </tr>\n    <tr>\n      <th>83</th>\n      <td>669</td>\n      <td>1185</td>\n      <td>0.564557</td>\n      <td>64.0</td>\n      <td>1313.0</td>\n    </tr>\n    <tr>\n      <th>84</th>\n      <td>687</td>\n      <td>1279</td>\n      <td>0.537138</td>\n      <td>41.0</td>\n      <td>1472.0</td>\n    </tr>\n    <tr>\n      <th>85</th>\n      <td>632</td>\n      <td>1058</td>\n      <td>0.597353</td>\n      <td>64.0</td>\n      <td>1160.0</td>\n    </tr>\n    <tr>\n      <th>86</th>\n      <td>560</td>\n      <td>1030</td>\n      <td>0.543689</td>\n      <td>50.0</td>\n      <td>1157.0</td>\n    </tr>\n    <tr>\n      <th>87</th>\n      <td>648</td>\n      <td>1071</td>\n      <td>0.605042</td>\n      <td>106.0</td>\n      <td>1186.0</td>\n    </tr>\n    <tr>\n      <th>88</th>\n      <td>760</td>\n      <td>1283</td>\n      <td>0.592362</td>\n      <td>24.0</td>\n      <td>1506.0</td>\n    </tr>\n    <tr>\n      <th>89</th>\n      <td>930</td>\n      <td>1448</td>\n      <td>0.642265</td>\n      <td>136.0</td>\n      <td>1658.0</td>\n    </tr>\n    <tr>\n      <th>90</th>\n      <td>890</td>\n      <td>1363</td>\n      <td>0.652971</td>\n      <td>60.0</td>\n      <td>1545.0</td>\n    </tr>\n  </tbody>\n</table>\n</div>"
     },
     "execution_count": 11,
     "metadata": {},
     "output_type": "execute_result"
    }
   ],
   "source": [
    "train_data"
   ],
   "metadata": {
    "collapsed": false,
    "ExecuteTime": {
     "start_time": "2023-04-21T17:15:52.891601Z",
     "end_time": "2023-04-21T17:15:52.953610Z"
    }
   }
  },
  {
   "cell_type": "code",
   "execution_count": 12,
   "outputs": [],
   "source": [
    "train_target = tf.transpose(target_normalizer(train_data['T_A_empirical']))\n",
    "to_do =\n",
    "if to_do:\n",
    "    for i, plan in enumerate(input_plan):\n",
    "        input_normalizer = tf.keras.layers.Normalization()\n",
    "        input_normalizer.adapt(train_data.loc[:, plan])\n",
    "\n",
    "        train_input = input_normalizer(train_data[plan])\n",
    "        model = get_model(plan)\n",
    "        model.fit(train_input, train_target,\n",
    "                  verbose=0,  # отключение вывода tf\n",
    "                  callbacks=[TqdmCallback(verbose=0)],\n",
    "                  batch_size=BATCH_SIZE,\n",
    "                  epochs=EPOCHS)  # вывод с помощью TQDM\n",
    "        model.save(f'models\\\\series_input\\\\model_{i}')"
   ],
   "metadata": {
    "collapsed": false,
    "ExecuteTime": {
     "start_time": "2023-04-21T17:15:57.827923Z",
     "end_time": "2023-04-21T17:15:57.941786Z"
    }
   }
  },
  {
   "cell_type": "code",
   "execution_count": 20,
   "outputs": [
    {
     "name": "stdout",
     "output_type": "stream",
     "text": [
      "2/2 [==============================] - 0s 9ms/step\n",
      "2/2 [==============================] - 0s 3ms/step\n",
      "2/2 [==============================] - 0s 4ms/step\n",
      "2/2 [==============================] - 0s 9ms/step\n",
      "2/2 [==============================] - 0s 3ms/step\n",
      "2/2 [==============================] - 0s 3ms/step\n",
      "2/2 [==============================] - 0s 3ms/step\n",
      "2/2 [==============================] - 0s 2ms/step\n",
      "2/2 [==============================] - 0s 2ms/step\n"
     ]
    }
   ],
   "source": [
    "# подсчет MSE для каждой модели на всей выборке\n",
    "model_folders = os.listdir('models\\\\series_input')\n",
    "\n",
    "for i, folder in enumerate(model_folders):\n",
    "    input_normalizer = tf.keras.layers.Normalization()\n",
    "    input_normalizer.adapt(train_data[input_plan[i]])\n",
    "    train_input = input_normalizer(train_data[input_plan[i]])\n",
    "\n",
    "    model = tf.keras.models.load_model(f'models\\\\series_input\\\\{folder}')\n",
    "    predict = target_denormalizer(model.predict(train_input))\n",
    "    table = pd.DataFrame(train_data['T_A_empirical'])\n",
    "    table['T_A_predicted'] = predict\n",
    "    table['difference'] = (table['T_A_empirical'] - table['T_A_predicted']).abs()\n",
    "\n",
    "    table.to_csv(f'..\\\\data\\\\input_series_data\\\\model_{i}_data.csv')"
   ],
   "metadata": {
    "collapsed": false,
    "ExecuteTime": {
     "start_time": "2023-04-21T19:12:10.400319Z",
     "end_time": "2023-04-21T19:12:18.438113Z"
    }
   }
  },
  {
   "cell_type": "code",
   "execution_count": 17,
   "outputs": [
    {
     "data": {
      "text/plain": "['model_0_data.csv',\n 'model_1_data.csv',\n 'model_2_data.csv',\n 'model_3_data.csv',\n 'model_4_data.csv',\n 'model_5_data.csv',\n 'model_6_data.csv',\n 'model_7_data.csv',\n 'model_8_data.csv']"
     },
     "execution_count": 17,
     "metadata": {},
     "output_type": "execute_result"
    }
   ],
   "source": [
    "data_folders = os.listdir('..\\\\data\\\\input_series_data')\n",
    "data_folders"
   ],
   "metadata": {
    "collapsed": false,
    "ExecuteTime": {
     "start_time": "2023-04-21T17:16:29.356071Z",
     "end_time": "2023-04-21T17:16:29.378071Z"
    }
   }
  },
  {
   "cell_type": "code",
   "execution_count": 19,
   "outputs": [
    {
     "name": "stdout",
     "output_type": "stream",
     "text": [
      "[13.99890578 15.5835851   6.91676773  6.86047066  7.91156033  5.50271948\n",
      "  4.77072124  6.80275578  4.48253068]\n",
      "[1259.9911499   953.00939941  156.29315186  251.24865723  307.83740234\n",
      "  108.06872559  121.30444336  232.96221924   93.2878418 ]\n"
     ]
    }
   ],
   "source": [
    "%matplotlib tk\n",
    "\n",
    "\n",
    "fig, axs = plt.subplots(figsize=(9,7),nrows=3, ncols=3)\n",
    "fig.suptitle('Температуры Аррениуса для разных входных данных')\n",
    "mse_table = np.array([])\n",
    "max_difference = np.array([])\n",
    "for i, data in enumerate(data_folders):\n",
    "    table = pd.read_csv(f'..\\\\data\\\\input_series_data\\\\{data}')\n",
    "    mse = (table['difference'].sum() / table['difference'].shape[0]) ** (1 / 2)\n",
    "    mse_table = np.append(mse_table, mse)\n",
    "    max_difference = np.append(max_difference, table['difference'].max())\n",
    "    j = i % 3\n",
    "    k = int(i / 3)\n",
    "    axs[j, k].plot(table['T_A_predicted'], table['T_A_empirical'], '.r')\n",
    "    axs[j, k].plot([0, 2250], [0, 2250], '-k')\n",
    "    axs[j, k].set_ylabel('$T_{emp}, K$')\n",
    "    axs[j, k].set_xlabel('$T_{pred}, K$')\n",
    "    axs[j,k].text(1000,0,f'mse = {np.round(mse,2)}\\nmax_diff = {np.round(max_difference[i],2)}')\n",
    "    str_plan = ', '.join(input_plan[i])\n",
    "    axs[j, k].set_title(f'${str_plan}$')\n",
    "\n",
    "print(mse_table)\n",
    "print(max_difference)\n",
    "fig.tight_layout()\n",
    "fig.show()\n",
    "fig.savefig('..\\\\graphics\\\\Temp_from_input')\n",
    "\n"
   ],
   "metadata": {
    "collapsed": false,
    "ExecuteTime": {
     "start_time": "2023-04-21T17:19:54.468763Z",
     "end_time": "2023-04-21T17:19:56.115019Z"
    }
   }
  },
  {
   "cell_type": "code",
   "execution_count": 102,
   "outputs": [],
   "source": [
    "data_table = pd.DataFrame([])\n",
    "data_table['Input Format'] = input_plan\n",
    "data_table['MSE'] = mse_table\n",
    "data_table['Max Difference'] =max_difference\n",
    "data_table.to_csv('..\\\\data\\\\input_series_statistics.csv')"
   ],
   "metadata": {
    "collapsed": false,
    "ExecuteTime": {
     "start_time": "2023-04-20T23:39:48.912547Z",
     "end_time": "2023-04-20T23:39:48.945017Z"
    }
   }
  },
  {
   "cell_type": "code",
   "execution_count": 163,
   "outputs": [
    {
     "data": {
      "text/plain": "             Input Format        MSE  Max Difference\n0                     [m]  13.998906     1259.991150\n1               [T_g/T_m]  15.583585      953.009399\n2            [T_g/T_m, m]   6.916768      156.293152\n3                [T_g, m]   6.860471      251.248657\n4                   [T_g]   7.911560      307.837402\n5              [T_g, T_m]   5.502719      108.068726\n6           [T_g, T_m, m]   4.770721      121.304443\n7                   [T_m]   6.802756      232.962219\n8  [T_g, T_m, T_g/T_m, m]   4.482531       93.287842",
      "text/html": "<div>\n<style scoped>\n    .dataframe tbody tr th:only-of-type {\n        vertical-align: middle;\n    }\n\n    .dataframe tbody tr th {\n        vertical-align: top;\n    }\n\n    .dataframe thead th {\n        text-align: right;\n    }\n</style>\n<table border=\"1\" class=\"dataframe\">\n  <thead>\n    <tr style=\"text-align: right;\">\n      <th></th>\n      <th>Input Format</th>\n      <th>MSE</th>\n      <th>Max Difference</th>\n    </tr>\n  </thead>\n  <tbody>\n    <tr>\n      <th>0</th>\n      <td>[m]</td>\n      <td>13.998906</td>\n      <td>1259.991150</td>\n    </tr>\n    <tr>\n      <th>1</th>\n      <td>[T_g/T_m]</td>\n      <td>15.583585</td>\n      <td>953.009399</td>\n    </tr>\n    <tr>\n      <th>2</th>\n      <td>[T_g/T_m, m]</td>\n      <td>6.916768</td>\n      <td>156.293152</td>\n    </tr>\n    <tr>\n      <th>3</th>\n      <td>[T_g, m]</td>\n      <td>6.860471</td>\n      <td>251.248657</td>\n    </tr>\n    <tr>\n      <th>4</th>\n      <td>[T_g]</td>\n      <td>7.911560</td>\n      <td>307.837402</td>\n    </tr>\n    <tr>\n      <th>5</th>\n      <td>[T_g, T_m]</td>\n      <td>5.502719</td>\n      <td>108.068726</td>\n    </tr>\n    <tr>\n      <th>6</th>\n      <td>[T_g, T_m, m]</td>\n      <td>4.770721</td>\n      <td>121.304443</td>\n    </tr>\n    <tr>\n      <th>7</th>\n      <td>[T_m]</td>\n      <td>6.802756</td>\n      <td>232.962219</td>\n    </tr>\n    <tr>\n      <th>8</th>\n      <td>[T_g, T_m, T_g/T_m, m]</td>\n      <td>4.482531</td>\n      <td>93.287842</td>\n    </tr>\n  </tbody>\n</table>\n</div>"
     },
     "execution_count": 163,
     "metadata": {},
     "output_type": "execute_result"
    }
   ],
   "source": [
    "data_table"
   ],
   "metadata": {
    "collapsed": false,
    "ExecuteTime": {
     "start_time": "2023-04-21T00:11:26.548275Z",
     "end_time": "2023-04-21T00:11:26.575836Z"
    }
   }
  },
  {
   "cell_type": "markdown",
   "source": [],
   "metadata": {
    "collapsed": false
   }
  },
  {
   "cell_type": "code",
   "execution_count": 188,
   "outputs": [],
   "source": [
    "fig, ax = plt.subplots(figsize=(10, 6), subplot_kw=dict(aspect=\"equal\"))\n",
    "\n",
    "ax.pie(data_table['MSE'],\n",
    "       labels=np.round(data_table['MSE'],2),\n",
    "       rotatelabels=False,\n",
    "       radius=1,\n",
    "       labeldistance=.6,\n",
    "       textprops={'fontsize':12})\n",
    "labels = ['$'+' ,'.join(plan)+'$' for plan in input_plan]\n",
    "ax.legend(labels,\n",
    "          title=\"Input\",\n",
    "          loc=\"center left\",\n",
    "          bbox_to_anchor=(1, 0, 0, 1))\n",
    "\n",
    "ax.set_title(\"MSE для разных вводных данных\",fontdict={'fontsize':24,'font':'Times New Roman'})\n",
    "fig.savefig('..\\\\graphics\\\\MSE_Pie_from_input')\n",
    "fig.show()"
   ],
   "metadata": {
    "collapsed": false,
    "ExecuteTime": {
     "start_time": "2023-04-21T00:18:42.856845Z",
     "end_time": "2023-04-21T00:18:43.255237Z"
    }
   }
  },
  {
   "cell_type": "code",
   "execution_count": null,
   "outputs": [],
   "source": [
    "## Проверка"
   ],
   "metadata": {
    "collapsed": false
   }
  },
  {
   "cell_type": "code",
   "execution_count": null,
   "outputs": [],
   "source": [],
   "metadata": {
    "collapsed": false
   }
  },
  {
   "cell_type": "code",
   "execution_count": null,
   "outputs": [],
   "source": [],
   "metadata": {
    "collapsed": false
   }
  }
 ],
 "metadata": {
  "kernelspec": {
   "display_name": "Python 3",
   "language": "python",
   "name": "python3"
  },
  "language_info": {
   "codemirror_mode": {
    "name": "ipython",
    "version": 2
   },
   "file_extension": ".py",
   "mimetype": "text/x-python",
   "name": "python",
   "nbconvert_exporter": "python",
   "pygments_lexer": "ipython2",
   "version": "2.7.6"
  }
 },
 "nbformat": 4,
 "nbformat_minor": 0
}
